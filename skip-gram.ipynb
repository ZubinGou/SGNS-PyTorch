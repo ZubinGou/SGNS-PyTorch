{
 "cells": [
  {
   "cell_type": "code",
   "execution_count": 1,
   "metadata": {
    "ExecuteTime": {
     "end_time": "2021-03-03T08:39:32.726488Z",
     "start_time": "2021-03-03T08:39:28.297829Z"
    }
   },
   "outputs": [],
   "source": [
    "import torch\n",
    "from torch.autograd import Variable\n",
    "from torch.utils.data import DataLoader\n",
    "\n",
    "import pandas as pd\n",
    "import numpy as np\n",
    "import seaborn as sns\n",
    "import nltk\n",
    "from nltk.corpus import stopwords\n",
    "from sklearn import decomposition\n",
    "from pathlib import Path\n",
    "from matplotlib import pyplot as plt\n",
    "plt.rcParams['figure.figsize'] = (10,8)"
   ]
  },
  {
   "cell_type": "markdown",
   "metadata": {
    "ExecuteTime": {
     "end_time": "2021-03-03T10:53:50.524661Z",
     "start_time": "2021-03-03T10:53:50.518629Z"
    }
   },
   "source": [
    "## Get Data"
   ]
  },
  {
   "cell_type": "code",
   "execution_count": null,
   "metadata": {},
   "outputs": [],
   "source": [
    "corpus = [\n",
    "    'drink milk',\n",
    "    'drink cold water',\n",
    "    'drink cold cola',\n",
    "    'drink juice',\n",
    "    'drink cola',\n",
    "    'eat bacon',\n",
    "    'eat mango',\n",
    "    'eat cherry',\n",
    "    'eat apple',\n",
    "    'juice with sugar',\n",
    "    'cola with sugar',\n",
    "    'mango is fruit',\n",
    "    'apple is fruit',\n",
    "    'cherry is fruit',\n",
    "    'Berlin is Germany',\n",
    "    'Boston is USA',\n",
    "    'Mercedes from Germany',\n",
    "    'Mercedes is a car',\n",
    "    'Ford from USA',\n",
    "    'Ford is a car'\n",
    "]"
   ]
  },
  {
   "cell_type": "code",
   "execution_count": 19,
   "metadata": {
    "ExecuteTime": {
     "end_time": "2021-03-03T10:50:29.572360Z",
     "start_time": "2021-03-03T10:50:29.549394Z"
    }
   },
   "outputs": [],
   "source": [
    "def create_vocabulary(corpus):\n",
    "    vocabulary = {}\n",
    "    i = 0\n",
    "    for s in corpus:\n",
    "        for w in s.split():\n",
    "            if w not in vocabulary:\n",
    "                vocabulary[w] = i\n",
    "                i += 1\n",
    "    return vocabulary\n",
    "\n",
    "def prepare_set(corpus, n_gram=1):\n",
    "    columns = [\"Input\"] + [f\"Output{i+1}\" for i in range(n_gram * 2)]\n",
    "    result = pd.DataFrame(columns=columns)\n",
    "    for sentence in corpus:\n",
    "        for i, w in enumerate(sentence.split()):\n",
    "            inp = [w]\n",
    "            out = []\n",
    "            for n in range(1, n_gram + 1):\n",
    "                # backward\n",
    "                if (i - n) >= 0:\n",
    "                    out.append(sentence.split()[i - n])\n",
    "                else:\n",
    "                    out.append('<pad>')\n",
    "\n",
    "                # forward\n",
    "                if (i + n) < len(sentence.split()):\n",
    "                    out.append(sentence.split()[i + n])\n",
    "                else:\n",
    "                    out.append('<pad>')\n",
    "            row = pd.DataFrame([inp + out], columns=columns)\n",
    "            result = result.append(row, ignore_index=True)\n",
    "    return result\n",
    "\n",
    "def prepare_set_pair(corpus, n_gram=1):\n",
    "    columns = [\"Input\", \"Output\"]\n",
    "    result = pd.DataFrame(columns=columns)\n",
    "    for sentence in corpus:\n",
    "        for i, w in enumerate(sentence.split()):\n",
    "            inp = w\n",
    "            for n in range(1, n_gram + 1):\n",
    "                # backward\n",
    "                if (i - n) >= 0:\n",
    "                    out = sentence.split()[i-n]\n",
    "                    row = pd.DataFrame([[inp, out]], columns=columns)\n",
    "                    result = result.append(row, ignore_index=True)\n",
    "                # forward\n",
    "                if (i + n) < len(sentence.split()):\n",
    "                    out = sentence.split()[i+n]\n",
    "                    row = pd.DataFrame([[inp, out]], columns=columns)\n",
    "                    result = result.append(row, ignore_index=True)\n",
    "    return result"
   ]
  },
  {
   "cell_type": "code",
   "execution_count": 7,
   "metadata": {
    "ExecuteTime": {
     "end_time": "2021-03-03T10:19:29.013186Z",
     "start_time": "2021-03-03T10:19:28.970922Z"
    }
   },
   "outputs": [
    {
     "data": {
      "text/plain": [
       "['drink milk',\n",
       " 'drink cold water',\n",
       " 'drink cold cola',\n",
       " 'drink juice',\n",
       " 'drink cola',\n",
       " 'eat bacon',\n",
       " 'eat mango',\n",
       " 'eat cherry',\n",
       " 'eat apple',\n",
       " 'juice sugar',\n",
       " 'cola sugar',\n",
       " 'mango fruit',\n",
       " 'apple fruit',\n",
       " 'cherry fruit',\n",
       " 'berlin germany',\n",
       " 'boston usa',\n",
       " 'mercedes germany',\n",
       " 'mercedes car',\n",
       " 'ford usa',\n",
       " 'ford car']"
      ]
     },
     "execution_count": 7,
     "metadata": {},
     "output_type": "execute_result"
    }
   ],
   "source": [
    "stop_words = stopwords.words('english')\n",
    "\n",
    "def preprocess(corpus):\n",
    "    result = []\n",
    "    for i in corpus:\n",
    "        out = nltk.word_tokenize(i)\n",
    "        out = [x.lower() for x in out]\n",
    "        out = [x for x in out if x not in stop_words]\n",
    "        result.append(\" \".join(out))\n",
    "    return result\n",
    "\n",
    "corpus = preprocess(corpus)\n",
    "corpus\n",
    "    "
   ]
  },
  {
   "cell_type": "code",
   "execution_count": 8,
   "metadata": {
    "ExecuteTime": {
     "end_time": "2021-03-03T10:19:56.704616Z",
     "start_time": "2021-03-03T10:19:56.697587Z"
    }
   },
   "outputs": [
    {
     "data": {
      "text/plain": [
       "{'drink': 0,\n",
       " 'milk': 1,\n",
       " 'cold': 2,\n",
       " 'water': 3,\n",
       " 'cola': 4,\n",
       " 'juice': 5,\n",
       " 'eat': 6,\n",
       " 'bacon': 7,\n",
       " 'mango': 8,\n",
       " 'cherry': 9,\n",
       " 'apple': 10,\n",
       " 'sugar': 11,\n",
       " 'fruit': 12,\n",
       " 'berlin': 13,\n",
       " 'germany': 14,\n",
       " 'boston': 15,\n",
       " 'usa': 16,\n",
       " 'mercedes': 17,\n",
       " 'car': 18,\n",
       " 'ford': 19}"
      ]
     },
     "execution_count": 8,
     "metadata": {},
     "output_type": "execute_result"
    }
   ],
   "source": [
    "vocabulary = create_vocabulary(corpus)\n",
    "vocabulary"
   ]
  },
  {
   "cell_type": "code",
   "execution_count": 63,
   "metadata": {
    "ExecuteTime": {
     "end_time": "2021-03-03T13:53:19.320519Z",
     "start_time": "2021-03-03T13:53:19.260453Z"
    }
   },
   "outputs": [
    {
     "data": {
      "text/html": [
       "<div>\n",
       "<style scoped>\n",
       "    .dataframe tbody tr th:only-of-type {\n",
       "        vertical-align: middle;\n",
       "    }\n",
       "\n",
       "    .dataframe tbody tr th {\n",
       "        vertical-align: top;\n",
       "    }\n",
       "\n",
       "    .dataframe thead th {\n",
       "        text-align: right;\n",
       "    }\n",
       "</style>\n",
       "<table border=\"1\" class=\"dataframe\">\n",
       "  <thead>\n",
       "    <tr style=\"text-align: right;\">\n",
       "      <th></th>\n",
       "      <th>Input</th>\n",
       "      <th>Output1</th>\n",
       "      <th>Output2</th>\n",
       "      <th>Output3</th>\n",
       "      <th>Output4</th>\n",
       "    </tr>\n",
       "  </thead>\n",
       "  <tbody>\n",
       "    <tr>\n",
       "      <th>0</th>\n",
       "      <td>drink</td>\n",
       "      <td>&lt;pad&gt;</td>\n",
       "      <td>milk</td>\n",
       "      <td>&lt;pad&gt;</td>\n",
       "      <td>&lt;pad&gt;</td>\n",
       "    </tr>\n",
       "    <tr>\n",
       "      <th>1</th>\n",
       "      <td>milk</td>\n",
       "      <td>drink</td>\n",
       "      <td>&lt;pad&gt;</td>\n",
       "      <td>&lt;pad&gt;</td>\n",
       "      <td>&lt;pad&gt;</td>\n",
       "    </tr>\n",
       "    <tr>\n",
       "      <th>2</th>\n",
       "      <td>drink</td>\n",
       "      <td>&lt;pad&gt;</td>\n",
       "      <td>cold</td>\n",
       "      <td>&lt;pad&gt;</td>\n",
       "      <td>water</td>\n",
       "    </tr>\n",
       "    <tr>\n",
       "      <th>3</th>\n",
       "      <td>cold</td>\n",
       "      <td>drink</td>\n",
       "      <td>water</td>\n",
       "      <td>&lt;pad&gt;</td>\n",
       "      <td>&lt;pad&gt;</td>\n",
       "    </tr>\n",
       "    <tr>\n",
       "      <th>4</th>\n",
       "      <td>water</td>\n",
       "      <td>cold</td>\n",
       "      <td>&lt;pad&gt;</td>\n",
       "      <td>drink</td>\n",
       "      <td>&lt;pad&gt;</td>\n",
       "    </tr>\n",
       "  </tbody>\n",
       "</table>\n",
       "</div>"
      ],
      "text/plain": [
       "   Input Output1 Output2 Output3 Output4\n",
       "0  drink   <pad>    milk   <pad>   <pad>\n",
       "1   milk   drink   <pad>   <pad>   <pad>\n",
       "2  drink   <pad>    cold   <pad>   water\n",
       "3   cold   drink   water   <pad>   <pad>\n",
       "4  water    cold   <pad>   drink   <pad>"
      ]
     },
     "execution_count": 63,
     "metadata": {},
     "output_type": "execute_result"
    }
   ],
   "source": [
    "train_emb = prepare_set(corpus, n_gram=2)\n",
    "train_emb.head()"
   ]
  },
  {
   "cell_type": "code",
   "execution_count": 64,
   "metadata": {
    "ExecuteTime": {
     "end_time": "2021-03-03T13:53:30.891701Z",
     "start_time": "2021-03-03T13:53:30.835996Z"
    }
   },
   "outputs": [
    {
     "data": {
      "text/html": [
       "<div>\n",
       "<style scoped>\n",
       "    .dataframe tbody tr th:only-of-type {\n",
       "        vertical-align: middle;\n",
       "    }\n",
       "\n",
       "    .dataframe tbody tr th {\n",
       "        vertical-align: top;\n",
       "    }\n",
       "\n",
       "    .dataframe thead th {\n",
       "        text-align: right;\n",
       "    }\n",
       "</style>\n",
       "<table border=\"1\" class=\"dataframe\">\n",
       "  <thead>\n",
       "    <tr style=\"text-align: right;\">\n",
       "      <th></th>\n",
       "      <th>Input</th>\n",
       "      <th>Output</th>\n",
       "    </tr>\n",
       "  </thead>\n",
       "  <tbody>\n",
       "    <tr>\n",
       "      <th>0</th>\n",
       "      <td>drink</td>\n",
       "      <td>milk</td>\n",
       "    </tr>\n",
       "    <tr>\n",
       "      <th>1</th>\n",
       "      <td>milk</td>\n",
       "      <td>drink</td>\n",
       "    </tr>\n",
       "    <tr>\n",
       "      <th>2</th>\n",
       "      <td>drink</td>\n",
       "      <td>cold</td>\n",
       "    </tr>\n",
       "    <tr>\n",
       "      <th>3</th>\n",
       "      <td>drink</td>\n",
       "      <td>water</td>\n",
       "    </tr>\n",
       "    <tr>\n",
       "      <th>4</th>\n",
       "      <td>cold</td>\n",
       "      <td>drink</td>\n",
       "    </tr>\n",
       "  </tbody>\n",
       "</table>\n",
       "</div>"
      ],
      "text/plain": [
       "   Input Output\n",
       "0  drink   milk\n",
       "1   milk  drink\n",
       "2  drink   cold\n",
       "3  drink  water\n",
       "4   cold  drink"
      ]
     },
     "execution_count": 64,
     "metadata": {},
     "output_type": "execute_result"
    }
   ],
   "source": [
    "train_emb = prepare_set_pair(corpus, n_gram=2)\n",
    "train_emb.head()"
   ]
  },
  {
   "cell_type": "code",
   "execution_count": 65,
   "metadata": {
    "ExecuteTime": {
     "end_time": "2021-03-03T13:53:34.659626Z",
     "start_time": "2021-03-03T13:53:34.640454Z"
    }
   },
   "outputs": [
    {
     "data": {
      "text/html": [
       "<div>\n",
       "<style scoped>\n",
       "    .dataframe tbody tr th:only-of-type {\n",
       "        vertical-align: middle;\n",
       "    }\n",
       "\n",
       "    .dataframe tbody tr th {\n",
       "        vertical-align: top;\n",
       "    }\n",
       "\n",
       "    .dataframe thead th {\n",
       "        text-align: right;\n",
       "    }\n",
       "</style>\n",
       "<table border=\"1\" class=\"dataframe\">\n",
       "  <thead>\n",
       "    <tr style=\"text-align: right;\">\n",
       "      <th></th>\n",
       "      <th>Input</th>\n",
       "      <th>Output</th>\n",
       "    </tr>\n",
       "  </thead>\n",
       "  <tbody>\n",
       "    <tr>\n",
       "      <th>0</th>\n",
       "      <td>0</td>\n",
       "      <td>1</td>\n",
       "    </tr>\n",
       "    <tr>\n",
       "      <th>1</th>\n",
       "      <td>1</td>\n",
       "      <td>0</td>\n",
       "    </tr>\n",
       "    <tr>\n",
       "      <th>2</th>\n",
       "      <td>0</td>\n",
       "      <td>2</td>\n",
       "    </tr>\n",
       "    <tr>\n",
       "      <th>3</th>\n",
       "      <td>0</td>\n",
       "      <td>3</td>\n",
       "    </tr>\n",
       "    <tr>\n",
       "      <th>4</th>\n",
       "      <td>2</td>\n",
       "      <td>0</td>\n",
       "    </tr>\n",
       "  </tbody>\n",
       "</table>\n",
       "</div>"
      ],
      "text/plain": [
       "   Input  Output\n",
       "0      0       1\n",
       "1      1       0\n",
       "2      0       2\n",
       "3      0       3\n",
       "4      2       0"
      ]
     },
     "execution_count": 65,
     "metadata": {},
     "output_type": "execute_result"
    }
   ],
   "source": [
    "train_emb.Input = train_emb.Input.map(vocabulary)\n",
    "train_emb.Output = train_emb.Output.map(vocabulary)\n",
    "train_emb.head()"
   ]
  },
  {
   "cell_type": "markdown",
   "metadata": {},
   "source": [
    "## Model"
   ]
  },
  {
   "cell_type": "code",
   "execution_count": 91,
   "metadata": {
    "ExecuteTime": {
     "end_time": "2021-03-03T13:58:41.881515Z",
     "start_time": "2021-03-03T13:58:41.877315Z"
    }
   },
   "outputs": [],
   "source": [
    "# device = torch.cuda.current_device() if torch.cuda.is_available() else torch.device('cpu')\n",
    "device = torch.device('cpu')\n",
    "\n",
    "vocab_size = len(vocabulary)\n",
    "def get_input_tensor(tensor):\n",
    "    '''1D index -> 2D one-hot tensor'''\n",
    "#     size = tensor.shape[0]\n",
    "    size = [*tensor.shape][0]\n",
    "    inp = torch.zeros(size, vocab_size, device=device).scatter_(1, tensor.unsqueeze(1), 1.)\n",
    "    return Variable(inp).float()"
   ]
  },
  {
   "cell_type": "code",
   "execution_count": 92,
   "metadata": {
    "ExecuteTime": {
     "end_time": "2021-03-03T13:58:43.468457Z",
     "start_time": "2021-03-03T13:58:43.456751Z"
    }
   },
   "outputs": [
    {
     "name": "stdout",
     "output_type": "stream",
     "text": [
      "torch.Size([20, 5]) torch.Size([5, 20])\n"
     ]
    }
   ],
   "source": [
    "embedding_dims = 5\n",
    "init_range = 0.5 / embedding_dims\n",
    "W1 = Variable(torch.randn(vocab_size, embedding_dims, device=device).uniform_(-init_range, init_range).float(), requires_grad=True)\n",
    "W2 = Variable(torch.randn(embedding_dims, vocab_size, device=device).uniform_(-init_range, init_range).float(), requires_grad=True)\n",
    "print(W1.shape, W2.shape)"
   ]
  },
  {
   "cell_type": "markdown",
   "metadata": {},
   "source": [
    "## Train"
   ]
  },
  {
   "cell_type": "code",
   "execution_count": 94,
   "metadata": {
    "ExecuteTime": {
     "end_time": "2021-03-03T13:58:47.620986Z",
     "start_time": "2021-03-03T13:58:46.063685Z"
    }
   },
   "outputs": [
    {
     "name": "stdout",
     "output_type": "stream",
     "text": [
      "Epoch 0, loss = 2.995100736618042\n",
      "Epoch 100, loss = 1.1552451848983765\n",
      "Epoch 200, loss = 0.9874715805053711\n",
      "Epoch 300, loss = 1.3680248260498047\n",
      "Epoch 400, loss = 1.0917840003967285\n",
      "Epoch 500, loss = 1.090592861175537\n",
      "Epoch 600, loss = 1.417537808418274\n",
      "Epoch 700, loss = 1.0843068361282349\n",
      "Epoch 800, loss = 1.0191487073898315\n",
      "Epoch 900, loss = 1.035744071006775\n",
      "Epoch 1000, loss = 1.0058356523513794\n",
      "Epoch 1100, loss = 0.9605559706687927\n",
      "Epoch 1200, loss = 0.9393689632415771\n",
      "Epoch 1300, loss = 0.9179224371910095\n",
      "Epoch 1400, loss = 0.9081981182098389\n",
      "Epoch 1500, loss = 0.9042484760284424\n",
      "Epoch 1600, loss = 0.903984010219574\n",
      "Epoch 1700, loss = 0.9041524529457092\n",
      "Epoch 1800, loss = 0.9038423895835876\n",
      "Epoch 1900, loss = 0.9032694697380066\n"
     ]
    }
   ],
   "source": [
    "num_epochs = 2000\n",
    "learning_rate = 2e-1\n",
    "lr_decay = 0.99\n",
    "loss_hist = []\n",
    "\n",
    "for epo in range(num_epochs):\n",
    "    for x, y in zip(DataLoader(torch.from_numpy(train_emb.Input.values).to(device), batch_size=train_emb.shape[0]), DataLoader(torch.from_numpy(train_emb.Output.values).to(device), batch_size=train_emb.shape[0])):\n",
    "        input_tensor = get_input_tensor(x) # (N, V)\n",
    "        h = input_tensor.mm(W1) # (1, H)\n",
    "        y_pred = h.mm(W2) # (1, V)\n",
    "        \n",
    "        loss_f = torch.nn.CrossEntropyLoss()\n",
    "        loss = loss_f(y_pred, y)\n",
    "        loss.backward()\n",
    "        \n",
    "        with torch.no_grad():\n",
    "            W1 -= learning_rate*W1.grad.data\n",
    "            W2 -= learning_rate*W2.grad.data\n",
    "\n",
    "            W1.grad.data.zero_()\n",
    "            W1.grad.data.zero_()\n",
    "        if epo % 10 == 0:\n",
    "            learning_rate *= lr_decay\n",
    "        if epo % 100 == 0:\n",
    "            print(f'Epoch {epo}, loss = {loss}')\n",
    "        \n",
    "        \n",
    "        "
   ]
  },
  {
   "cell_type": "markdown",
   "metadata": {},
   "source": [
    "## Visualize"
   ]
  },
  {
   "cell_type": "code",
   "execution_count": 95,
   "metadata": {
    "ExecuteTime": {
     "end_time": "2021-03-03T13:58:56.671420Z",
     "start_time": "2021-03-03T13:58:56.451383Z"
    }
   },
   "outputs": [
    {
     "name": "stderr",
     "output_type": "stream",
     "text": [
      "C:\\tools\\Anaconda3\\lib\\site-packages\\seaborn\\_decorators.py:36: FutureWarning: Pass the following variables as keyword args: x, y. From version 0.12, the only valid positional argument will be `data`, and passing other arguments without an explicit keyword will result in an error or misinterpretation.\n",
      "  warnings.warn(\n"
     ]
    },
    {
     "data": {
      "image/png": "[encoded data removed]",
      "text/plain": [
       "<Figure size 720x576 with 1 Axes>"
      ]
     },
     "metadata": {
      "needs_background": "light"
     },
     "output_type": "display_data"
    }
   ],
   "source": [
    "W1 = W1.detach().numpy()\n",
    "W2 = W2.T.detach().numpy()\n",
    "\n",
    "svd = decomposition.TruncatedSVD(n_components=2)\n",
    "W1_dec = svd.fit_transform(W1)\n",
    "x = W1_dec[:, 0]\n",
    "y = W1_dec[:, 1]\n",
    "plot = sns.scatterplot(x, y)\n",
    "\n",
    "for i in range(0, W1_dec.shape[0]):\n",
    "    plot.text(x[i], y[i] + 2e-2, list(vocabulary.keys())[i], horizontalalignment='center', size='small', color='black', weight='semibold')"
   ]
  },
  {
   "cell_type": "code",
   "execution_count": 96,
   "metadata": {
    "ExecuteTime": {
     "end_time": "2021-03-03T13:58:59.424500Z",
     "start_time": "2021-03-03T13:58:59.244475Z"
    }
   },
   "outputs": [
    {
     "name": "stderr",
     "output_type": "stream",
     "text": [
      "C:\\tools\\Anaconda3\\lib\\site-packages\\seaborn\\_decorators.py:36: FutureWarning: Pass the following variables as keyword args: x, y. From version 0.12, the only valid positional argument will be `data`, and passing other arguments without an explicit keyword will result in an error or misinterpretation.\n",
      "  warnings.warn(\n"
     ]
    },
    {
     "data": {
      "image/png": "[encoded data removed]",
      "text/plain": [
       "<Figure size 720x576 with 1 Axes>"
      ]
     },
     "metadata": {
      "needs_background": "light"
     },
     "output_type": "display_data"
    }
   ],
   "source": [
    "W2_dec = svd.fit_transform(W2)\n",
    "x1 = W2_dec[:,0]\n",
    "y1 = W2_dec[:,1]\n",
    "plot1 = sns.scatterplot(x1, y1)\n",
    "for i in range(0,W2_dec.shape[0]):\n",
    "     plot1.text(x1[i], y1[i]+1, list(vocabulary.keys())[i], horizontalalignment='center', size='small', color='black', weight='semibold');"
   ]
  },
  {
   "cell_type": "code",
   "execution_count": null,
   "metadata": {},
   "outputs": [],
   "source": []
  },
  {
   "cell_type": "code",
   "execution_count": null,
   "metadata": {},
   "outputs": [],
   "source": []
  },
  {
   "cell_type": "code",
   "execution_count": null,
   "metadata": {},
   "outputs": [],
   "source": []
  },
  {
   "cell_type": "code",
   "execution_count": null,
   "metadata": {},
   "outputs": [],
   "source": []
  }
 ],
 "metadata": {
  "kernelspec": {
   "display_name": "Python 3",
   "language": "python",
   "name": "python3"
  },
  "language_info": {
   "codemirror_mode": {
    "name": "ipython",
    "version": 3
   },
   "file_extension": ".py",
   "mimetype": "text/x-python",
   "name": "python",
   "nbconvert_exporter": "python",
   "pygments_lexer": "ipython3",
   "version": "3.8.5"
  },
  "toc": {
   "base_numbering": 1,
   "nav_menu": {},
   "number_sections": true,
   "sideBar": true,
   "skip_h1_title": false,
   "title_cell": "Table of Contents",
   "title_sidebar": "Contents",
   "toc_cell": false,
   "toc_position": {},
   "toc_section_display": true,
   "toc_window_display": false
  }
 },
 "nbformat": 4,
 "nbformat_minor": 4
}
