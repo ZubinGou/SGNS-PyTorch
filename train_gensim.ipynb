{
 "cells": [
  {
   "cell_type": "code",
   "execution_count": 46,
   "metadata": {
    "ExecuteTime": {
     "end_time": "2021-03-06T06:32:22.019438Z",
     "start_time": "2021-03-06T06:32:21.952759Z"
    }
   },
   "outputs": [],
   "source": [
    "from gensim.test.utils import datapath\n",
    "from gensim import utils\n",
    "from gensim.models import Word2Vec\n",
    "import gensim.downloader as api\n",
    "import pprint\n",
    "import tqdm\n",
    "\n",
    "pp = pprint.PrettyPrinter()"
   ]
  },
  {
   "cell_type": "markdown",
   "metadata": {
    "ExecuteTime": {
     "end_time": "2021-03-06T02:34:51.871196Z",
     "start_time": "2021-03-06T02:34:51.858070Z"
    }
   },
   "source": [
    "## train by gensim"
   ]
  },
  {
   "cell_type": "code",
   "execution_count": 47,
   "metadata": {
    "ExecuteTime": {
     "end_time": "2021-03-06T06:33:31.728964Z",
     "start_time": "2021-03-06T06:32:27.983280Z"
    }
   },
   "outputs": [],
   "source": [
    "dataset = api.load(\"text8\")\n",
    "model = Word2Vec(dataset)"
   ]
  },
  {
   "cell_type": "code",
   "execution_count": 32,
   "metadata": {
    "ExecuteTime": {
     "end_time": "2021-03-06T04:18:14.489367Z",
     "start_time": "2021-03-06T04:18:14.416061Z"
    }
   },
   "outputs": [
    {
     "name": "stdout",
     "output_type": "stream",
     "text": [
      "[ 2.0953395e+00 -1.9731241e+00  2.6552367e-01 -1.7134460e+00\n",
      " -3.5115216e-02 -1.5850774e+00  9.1741782e-01  8.8943012e-02\n",
      " -1.0691686e+00  2.9206662e+00  1.1215485e+00 -1.5152329e+00\n",
      "  7.9389250e-01  2.8436303e-01  1.0348152e+00  9.0016192e-01\n",
      " -1.1116505e-01  2.1811137e+00  2.8085884e-01  5.5462706e-01\n",
      " -9.2958248e-01 -2.0932276e+00 -2.3815374e+00 -6.8129760e-01\n",
      "  2.1442430e+00  4.0424764e-01  2.0032477e+00 -1.3737109e+00\n",
      "  1.0573367e+00  1.1310998e+00  1.5471361e+00  1.3263985e+00\n",
      " -6.0701984e-01  4.0566288e-03 -1.9202086e+00  9.5603365e-01\n",
      " -2.4572344e+00  1.5418106e+00 -1.5725791e-01 -1.5049566e+00\n",
      "  3.7481868e+00  2.8140945e+00  1.4546834e+00 -3.9601088e-01\n",
      " -1.8088385e+00 -1.1165047e+00 -1.9582524e+00  1.8460208e+00\n",
      "  8.0703312e-01 -8.0348325e-01 -3.2950044e+00 -4.7357445e+00\n",
      "  3.9479067e+00 -5.1670325e-01  1.2630069e-01  6.3440585e-01\n",
      " -1.5541737e+00 -1.6077358e+00  1.4785161e+00  5.5884087e-01\n",
      " -1.0952820e+00 -1.4584171e+00  2.4845860e+00  1.5445882e+00\n",
      "  2.0742581e+00 -3.0411226e-01  4.8168463e-01  2.0387459e+00\n",
      " -1.2492489e+00 -1.4604628e+00  2.7785161e+00  1.2472951e+00\n",
      " -3.7963066e+00 -2.8503051e+00 -1.9972034e+00 -2.2603302e-01\n",
      " -5.0442290e-01 -3.9637406e+00  4.7542360e-02 -1.5174950e+00\n",
      "  5.3965122e-01 -1.3141751e-01 -2.2907932e-01 -2.7831414e+00\n",
      "  1.9509062e-01 -1.0045788e+00  1.0715040e+00 -2.9258559e+00\n",
      " -1.7633647e+00 -1.3945594e+00 -3.0238292e-01  2.5953901e-01\n",
      "  1.4544468e+00  7.5032932e-01 -3.6272234e-01 -3.0221426e+00\n",
      " -5.9903663e-01 -8.0110347e-01  9.8430997e-01 -1.9593689e+00]\n"
     ]
    }
   ],
   "source": [
    "print(model.wv['king'])"
   ]
  },
  {
   "cell_type": "code",
   "execution_count": 33,
   "metadata": {
    "ExecuteTime": {
     "end_time": "2021-03-06T04:18:22.940217Z",
     "start_time": "2021-03-06T04:18:22.579437Z"
    }
   },
   "outputs": [
    {
     "name": "stdout",
     "output_type": "stream",
     "text": [
      "((0.6171452294174373, 3.191455754669189e-38), SpearmanrResult(correlation=0.6303181401158278, pvalue=2.8598067150066397e-40), 0.56657223796034)\n",
      "((0.26859698827550466, 7.451789773933623e-18), SpearmanrResult(correlation=0.24889625331203918, pvalue=1.793141466969908e-15), 0.7007007007007007)\n"
     ]
    }
   ],
   "source": [
    "print(model.wv.evaluate_word_pairs(datapath('wordsim353.tsv')))\n",
    "print(model.wv.evaluate_word_pairs(datapath('simlex999.txt')))"
   ]
  },
  {
   "cell_type": "markdown",
   "metadata": {},
   "source": [
    "## train by word2vec diy"
   ]
  },
  {
   "cell_type": "code",
   "execution_count": 44,
   "metadata": {
    "ExecuteTime": {
     "end_time": "2021-03-06T06:28:40.041104Z",
     "start_time": "2021-03-06T06:28:36.902024Z"
    }
   },
   "outputs": [],
   "source": [
    "dataset = api.load(\"text8\")\n",
    "with open(\"dataset/text8.txt\", \"w\") as f:\n",
    "    for data in dataset:\n",
    "        f.write(\" \".join(data) + \"\\n\")"
   ]
  },
  {
   "cell_type": "code",
   "execution_count": 45,
   "metadata": {
    "ExecuteTime": {
     "end_time": "2021-03-06T06:29:38.719439Z",
     "start_time": "2021-03-06T06:29:17.074522Z"
    }
   },
   "outputs": [
    {
     "name": "stdout",
     "output_type": "stream",
     "text": [
      "The autoreload extension is already loaded. To reload it, use:\n",
      "  %reload_ext autoreload\n",
      "Read 1 M words.\n",
      "Read 2 M words.\n",
      "Read 3 M words.\n",
      "Read 4 M words.\n",
      "Read 5 M words.\n",
      "Read 6 M words.\n",
      "Read 7 M words.\n",
      "Read 8 M words.\n",
      "Read 9 M words.\n",
      "Read 10 M words.\n",
      "Read 11 M words.\n",
      "Read 12 M words.\n",
      "Read 13 M words.\n",
      "Read 14 M words.\n",
      "Read 15 M words.\n",
      "Read 16 M words.\n",
      "Read 17 M words.\n",
      "Total embeddings: 42432\n"
     ]
    },
    {
     "ename": "TypeError",
     "evalue": "super(type, obj): obj must be an instance or subtype of type",
     "output_type": "error",
     "traceback": [
      "\u001b[1;31m---------------------------------------------------------------------------\u001b[0m",
      "\u001b[1;31mTypeError\u001b[0m                                 Traceback (most recent call last)",
      "\u001b[1;32m<ipython-input-45-ed5436409d18>\u001b[0m in \u001b[0;36m<module>\u001b[1;34m\u001b[0m\n\u001b[0;32m      5\u001b[0m \u001b[1;31m# corpus_path = datapath('lee_background.cor')\u001b[0m\u001b[1;33m\u001b[0m\u001b[1;33m\u001b[0m\u001b[1;33m\u001b[0m\u001b[0m\n\u001b[0;32m      6\u001b[0m \u001b[0mcorpus_path\u001b[0m \u001b[1;33m=\u001b[0m \u001b[1;34m\"dataset/text8.txt\"\u001b[0m\u001b[1;33m\u001b[0m\u001b[1;33m\u001b[0m\u001b[0m\n\u001b[1;32m----> 7\u001b[1;33m \u001b[0mw2v\u001b[0m \u001b[1;33m=\u001b[0m \u001b[0mWord2VecTrainer\u001b[0m\u001b[1;33m(\u001b[0m\u001b[0minput_file\u001b[0m\u001b[1;33m=\u001b[0m\u001b[0mcorpus_path\u001b[0m\u001b[1;33m,\u001b[0m \u001b[0moutput_file\u001b[0m\u001b[1;33m=\u001b[0m\u001b[1;34m\"out.vec\"\u001b[0m\u001b[1;33m,\u001b[0m \u001b[0mepochs\u001b[0m\u001b[1;33m=\u001b[0m\u001b[1;36m3\u001b[0m\u001b[1;33m)\u001b[0m\u001b[1;33m\u001b[0m\u001b[1;33m\u001b[0m\u001b[0m\n\u001b[0m\u001b[0;32m      8\u001b[0m \u001b[0mprint\u001b[0m\u001b[1;33m(\u001b[0m\u001b[1;34m\"Training...\"\u001b[0m\u001b[1;33m)\u001b[0m\u001b[1;33m\u001b[0m\u001b[1;33m\u001b[0m\u001b[0m\n\u001b[0;32m      9\u001b[0m \u001b[0mw2v\u001b[0m\u001b[1;33m.\u001b[0m\u001b[0mtrain\u001b[0m\u001b[1;33m(\u001b[0m\u001b[1;33m)\u001b[0m\u001b[1;33m\u001b[0m\u001b[1;33m\u001b[0m\u001b[0m\n",
      "\u001b[1;32mD:\\course\\NLP\\code\\SGNS-PyTorch\\word2vec\\trainer.py\u001b[0m in \u001b[0;36m__init__\u001b[1;34m(self, input_file, output_file, emb_dimension, batch_size, window_size, epochs, initial_lr, min_count)\u001b[0m\n\u001b[0;32m     24\u001b[0m         \u001b[0mself\u001b[0m\u001b[1;33m.\u001b[0m\u001b[0mepochs\u001b[0m \u001b[1;33m=\u001b[0m \u001b[0mepochs\u001b[0m\u001b[1;33m\u001b[0m\u001b[1;33m\u001b[0m\u001b[0m\n\u001b[0;32m     25\u001b[0m         \u001b[0mself\u001b[0m\u001b[1;33m.\u001b[0m\u001b[0minitial_lr\u001b[0m \u001b[1;33m=\u001b[0m \u001b[0minitial_lr\u001b[0m\u001b[1;33m\u001b[0m\u001b[1;33m\u001b[0m\u001b[0m\n\u001b[1;32m---> 26\u001b[1;33m         \u001b[0mself\u001b[0m\u001b[1;33m.\u001b[0m\u001b[0mskip_gram_model\u001b[0m \u001b[1;33m=\u001b[0m \u001b[0mSkipGramModel\u001b[0m\u001b[1;33m(\u001b[0m\u001b[0mself\u001b[0m\u001b[1;33m.\u001b[0m\u001b[0memb_size\u001b[0m\u001b[1;33m,\u001b[0m \u001b[0mself\u001b[0m\u001b[1;33m.\u001b[0m\u001b[0memb_dimension\u001b[0m\u001b[1;33m)\u001b[0m\u001b[1;33m\u001b[0m\u001b[1;33m\u001b[0m\u001b[0m\n\u001b[0m\u001b[0;32m     27\u001b[0m \u001b[1;33m\u001b[0m\u001b[0m\n\u001b[0;32m     28\u001b[0m         \u001b[0mself\u001b[0m\u001b[1;33m.\u001b[0m\u001b[0muse_cuda\u001b[0m \u001b[1;33m=\u001b[0m \u001b[0mtorch\u001b[0m\u001b[1;33m.\u001b[0m\u001b[0mcuda\u001b[0m\u001b[1;33m.\u001b[0m\u001b[0mis_available\u001b[0m\u001b[1;33m(\u001b[0m\u001b[1;33m)\u001b[0m\u001b[1;33m\u001b[0m\u001b[1;33m\u001b[0m\u001b[0m\n",
      "\u001b[1;32mD:\\course\\NLP\\code\\SGNS-PyTorch\\word2vec\\model.py\u001b[0m in \u001b[0;36m__init__\u001b[1;34m(self, emb_size, emb_dimension)\u001b[0m\n\u001b[0;32m      8\u001b[0m \u001b[1;33m\u001b[0m\u001b[0m\n\u001b[0;32m      9\u001b[0m     \u001b[1;32mdef\u001b[0m \u001b[0m__init__\u001b[0m\u001b[1;33m(\u001b[0m\u001b[0mself\u001b[0m\u001b[1;33m,\u001b[0m \u001b[0memb_size\u001b[0m\u001b[1;33m,\u001b[0m \u001b[0memb_dimension\u001b[0m\u001b[1;33m)\u001b[0m\u001b[1;33m:\u001b[0m\u001b[1;33m\u001b[0m\u001b[1;33m\u001b[0m\u001b[0m\n\u001b[1;32m---> 10\u001b[1;33m         \u001b[0msuper\u001b[0m\u001b[1;33m(\u001b[0m\u001b[0mSkipGramModel\u001b[0m\u001b[1;33m,\u001b[0m \u001b[0mself\u001b[0m\u001b[1;33m)\u001b[0m\u001b[1;33m.\u001b[0m\u001b[0m__init__\u001b[0m\u001b[1;33m(\u001b[0m\u001b[1;33m)\u001b[0m\u001b[1;33m\u001b[0m\u001b[1;33m\u001b[0m\u001b[0m\n\u001b[0m\u001b[0;32m     11\u001b[0m         \u001b[0mself\u001b[0m\u001b[1;33m.\u001b[0m\u001b[0memb_size\u001b[0m \u001b[1;33m=\u001b[0m \u001b[0memb_size\u001b[0m \u001b[1;31m# v\u001b[0m\u001b[1;33m\u001b[0m\u001b[1;33m\u001b[0m\u001b[0m\n\u001b[0;32m     12\u001b[0m         \u001b[0mself\u001b[0m\u001b[1;33m.\u001b[0m\u001b[0memb_dimension\u001b[0m \u001b[1;33m=\u001b[0m \u001b[0memb_dimension\u001b[0m \u001b[1;31m# N\u001b[0m\u001b[1;33m\u001b[0m\u001b[1;33m\u001b[0m\u001b[0m\n",
      "\u001b[1;31mTypeError\u001b[0m: super(type, obj): obj must be an instance or subtype of type"
     ]
    }
   ],
   "source": [
    "from word2vec.trainer import Word2VecTrainer\n",
    "\n",
    "%load_ext autoreload\n",
    "%autoreload 2\n",
    "# corpus_path = datapath('lee_background.cor')\n",
    "corpus_path = \"dataset/text8.txt\"\n",
    "w2v = Word2VecTrainer(input_file=corpus_path, output_file=\"out.vec\", epochs=3)\n",
    "print(\"Training...\")\n",
    "w2v.train()"
   ]
  },
  {
   "cell_type": "code",
   "execution_count": 22,
   "metadata": {
    "ExecuteTime": {
     "end_time": "2021-03-06T03:56:08.571096Z",
     "start_time": "2021-03-06T03:56:08.450639Z"
    }
   },
   "outputs": [
    {
     "name": "stdout",
     "output_type": "stream",
     "text": [
      "Loaded vocab size 662\n"
     ]
    }
   ],
   "source": [
    "from gensim.models import KeyedVectors\n",
    "\n",
    "wv = KeyedVectors.load_word2vec_format(\"out.vec\", binary=False)\n",
    "vocab = list(wv.vocab.keys())\n",
    "print(\"Loaded vocab size %i\" % len(vocab))"
   ]
  },
  {
   "cell_type": "code",
   "execution_count": 23,
   "metadata": {
    "ExecuteTime": {
     "end_time": "2021-03-06T03:56:11.104250Z",
     "start_time": "2021-03-06T03:56:11.034550Z"
    }
   },
   "outputs": [
    {
     "name": "stdout",
     "output_type": "stream",
     "text": [
      "((-0.38647145100632446, 0.3442872432184244), SpearmanrResult(correlation=-0.2142857142857143, pvalue=0.6103444156452669), 97.73371104815864)\n",
      "((-0.5657293486038087, 0.022365071783484673), SpearmanrResult(correlation=-0.4911764705882353, pvalue=0.053350435677943356), 98.3983983983984)\n"
     ]
    }
   ],
   "source": [
    "print(wv.evaluate_word_pairs(datapath('wordsim353.tsv')))\n",
    "print(wv.evaluate_word_pairs(datapath('simlex999.txt')))"
   ]
  },
  {
   "cell_type": "code",
   "execution_count": null,
   "metadata": {},
   "outputs": [],
   "source": []
  },
  {
   "cell_type": "code",
   "execution_count": null,
   "metadata": {},
   "outputs": [],
   "source": []
  },
  {
   "cell_type": "code",
   "execution_count": null,
   "metadata": {},
   "outputs": [],
   "source": []
  }
 ],
 "metadata": {
  "kernelspec": {
   "display_name": "Python 3",
   "language": "python",
   "name": "python3"
  },
  "language_info": {
   "codemirror_mode": {
    "name": "ipython",
    "version": 3
   },
   "file_extension": ".py",
   "mimetype": "text/x-python",
   "name": "python",
   "nbconvert_exporter": "python",
   "pygments_lexer": "ipython3",
   "version": "3.8.5"
  },
  "toc": {
   "base_numbering": 1,
   "nav_menu": {},
   "number_sections": true,
   "sideBar": true,
   "skip_h1_title": false,
   "title_cell": "Table of Contents",
   "title_sidebar": "Contents",
   "toc_cell": false,
   "toc_position": {},
   "toc_section_display": true,
   "toc_window_display": false
  }
 },
 "nbformat": 4,
 "nbformat_minor": 4
}
