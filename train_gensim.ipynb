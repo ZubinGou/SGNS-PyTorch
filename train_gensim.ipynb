{
 "cells": [
  {
   "cell_type": "code",
   "execution_count": 1,
   "metadata": {
    "ExecuteTime": {
     "end_time": "2021-03-08T11:32:18.111976Z",
     "start_time": "2021-03-08T11:32:17.794087Z"
    }
   },
   "outputs": [],
   "source": [
    "from gensim.test.utils import datapath\n",
    "from gensim import utils\n",
    "from gensim.models import Word2Vec\n",
    "import gensim.downloader as api\n",
    "import pprint\n",
    "import tqdm\n",
    "\n",
    "pp = pprint.PrettyPrinter()"
   ]
  },
  {
   "cell_type": "code",
   "execution_count": null,
   "metadata": {},
   "outputs": [],
   "source": [
    "def evaluate_wordsim(wordvec):\n",
    "    p_ws353 = wordvec.evaluate_word_pairs(datapath('wordsim353.tsv'))[1][0]\n",
    "    p_rw = wordvec.wv.evaluate_word_pairs(\"word2vec/rw/rw_clean.txt\")[1][0]\n",
    "    p_sl999 = wordvec.wv.evaluate_word_pairs(datapath('simlex999.txt'))[1][0]\n",
    "    print(\"WS353:\", p_ws353)\n",
    "    print(\"RW:\", p_rw)\n",
    "    print(\"SL999\", p_sl999)"
   ]
  },
  {
   "cell_type": "markdown",
   "metadata": {
    "ExecuteTime": {
     "start_time": "2021-03-08T12:45:57.775Z"
    }
   },
   "source": [
    "## Pretrained GoogleNews-300"
   ]
  },
  {
   "cell_type": "code",
   "execution_count": null,
   "metadata": {},
   "outputs": [],
   "source": [
    "wv_google = word2vec.KeyedVectors.load_word2vec_format('dataset/GoogleNews-vectors-negative300.bin', binary=True)\n",
    "print(\"vocab:\", len(wv_google.vocab))\n",
    "print(\"vec_dim:\", wv_google.vector_size)"
   ]
  },
  {
   "cell_type": "markdown",
   "metadata": {
    "ExecuteTime": {
     "end_time": "2021-03-06T02:34:51.871196Z",
     "start_time": "2021-03-06T02:34:51.858070Z"
    }
   },
   "source": [
    "## Train by gensim"
   ]
  },
  {
   "cell_type": "code",
   "execution_count": 2,
   "metadata": {
    "ExecuteTime": {
     "end_time": "2021-03-08T11:32:21.828103Z",
     "start_time": "2021-03-08T11:32:18.998738Z"
    }
   },
   "outputs": [
    {
     "name": "stdout",
     "output_type": "stream",
     "text": [
      "{'num_records': 1701, 'record_format': 'list of str (tokens)', 'file_size': 33182058, 'reader_code': 'https://github.com/RaRe-Technologies/gensim-data/releases/download/text8/__init__.py', 'license': 'not found', 'description': 'First 100,000,000 bytes of plain text from Wikipedia. Used for testing purposes; see wiki-english-* for proper full Wikipedia datasets.', 'checksum': '68799af40b6bda07dfa47a32612e5364', 'file_name': 'text8.gz', 'read_more': ['http://mattmahoney.net/dc/textdata.html'], 'parts': 1}\n"
     ]
    }
   ],
   "source": [
    "print(api.info(\"text8\"))\n",
    "dataset = api.load(\"text8\")\n",
    "\n",
    "with open(\"dataset/text8.txt\", \"w\") as f:\n",
    "    for data in dataset:\n",
    "        f.write(\" \".join(data) + \"\\n\")"
   ]
  },
  {
   "cell_type": "markdown",
   "metadata": {},
   "source": [
    "提取text8部分：\n",
    "```sh\n",
    "$ head -i 300 text8.txt > text8_300.txt\n",
    "```"
   ]
  },
  {
   "cell_type": "code",
   "execution_count": 8,
   "metadata": {
    "ExecuteTime": {
     "end_time": "2021-03-08T12:28:26.739730Z",
     "start_time": "2021-03-08T12:27:17.689878Z"
    }
   },
   "outputs": [
    {
     "name": "stdout",
     "output_type": "stream",
     "text": [
      "vocab: 71290\n",
      "vec_dim: 100\n"
     ]
    }
   ],
   "source": [
    "# dataset = open(\"dataset/text8_300.txt\").read()\n",
    "dataset = api.load(\"text8\")\n",
    "model = Word2Vec(dataset)\n",
    "print(\"vocab:\", len(model.wv.vocab))\n",
    "print(\"vec_dim:\", model.vector_size)"
   ]
  },
  {
   "cell_type": "code",
   "execution_count": 9,
   "metadata": {
    "ExecuteTime": {
     "end_time": "2021-03-08T12:33:04.443293Z",
     "start_time": "2021-03-08T12:33:04.012247Z"
    }
   },
   "outputs": [
    {
     "name": "stdout",
     "output_type": "stream",
     "text": [
      "0.623768051438205\n",
      "0.3198280325425669\n",
      "0.24994655821500755\n"
     ]
    }
   ],
   "source": [
    "evaluate_wordsim(model.wv)"
   ]
  },
  {
   "cell_type": "markdown",
   "metadata": {},
   "source": [
    "## Train by word2vec DIY"
   ]
  },
  {
   "cell_type": "code",
   "execution_count": null,
   "metadata": {
    "ExecuteTime": {
     "start_time": "2021-03-08T12:35:05.357Z"
    }
   },
   "outputs": [
    {
     "name": "stdout",
     "output_type": "stream",
     "text": [
      "The autoreload extension is already loaded. To reload it, use:\n",
      "  %reload_ext autoreload\n",
      "len data: 17005207\n",
      "epoch= 1, batch=    0: sp=-0.093 0.005  pair/sec = 85904.12 loss=0.139\n",
      "epoch= 1, batch=10000: sp=-0.032 -0.065  pair/sec = 10465.73 loss=0.938\n",
      "epoch= 1, batch=20000: sp=0.081 -0.009  pair/sec = 10712.15 loss=0.882\n",
      "epoch= 1, batch=30000: sp=0.107 0.080  pair/sec = 10695.68 loss=0.761\n",
      "epoch= 1, batch=40000: sp=0.186 0.150  pair/sec = 10555.32 loss=0.857\n",
      "epoch= 1, batch=50000: sp=0.230 0.188  pair/sec = 9650.68 loss=0.839\n",
      "epoch= 1, batch=60000: sp=0.261 0.206  pair/sec = 10796.21 loss=0.850\n",
      "epoch= 1, batch=70000: sp=0.290 0.215  pair/sec = 10748.83 loss=0.826\n",
      "epoch= 1, batch=80000: sp=0.338 0.233  pair/sec = 10465.18 loss=0.888\n",
      "epoch= 1, batch=90000: sp=0.366 0.242  pair/sec = 10534.43 loss=0.775\n",
      "epoch= 1, batch=100000: sp=0.375 0.243  pair/sec = 9603.46 loss=0.817\n",
      "epoch= 1, batch=110000: sp=0.382 0.251  pair/sec = 10622.22 loss=0.770\n",
      "epoch= 1, batch=120000: sp=0.390 0.249  pair/sec = 10567.34 loss=0.722\n",
      "epoch= 1, batch=130000: sp=0.406 0.265  pair/sec = 10635.17 loss=0.849\n",
      "epoch= 1, batch=140000: sp=0.422 0.273  pair/sec = 10673.30 loss=0.831\n",
      "epoch= 1, batch=150000: sp=0.432 0.283  pair/sec = 9406.87 loss=0.833\n",
      "epoch= 1, batch=160000: sp=0.448 0.285  pair/sec = 10574.95 loss=0.786\n",
      "epoch= 1, batch=170000: sp=0.447 0.289  pair/sec = 10705.11 loss=0.850\n",
      "epoch= 1, batch=180000: sp=0.448 0.277  pair/sec = 10633.86 loss=0.782\n",
      "epoch= 1, batch=190000: sp=0.461 0.288  pair/sec = 10469.05 loss=0.776\n",
      "epoch= 1, batch=200000: sp=0.455 0.290  pair/sec = 9382.13 loss=0.791\n",
      "epoch= 1, batch=210000: sp=0.459 0.287  pair/sec = 10573.19 loss=0.751\n",
      "epoch= 1, batch=220000: sp=0.461 0.291  pair/sec = 10730.21 loss=0.845\n",
      "epoch= 1, batch=230000: sp=0.444 0.294  pair/sec = 10757.54 loss=0.779\n",
      "epoch= 1, batch=240000: sp=0.445 0.291  pair/sec = 10740.69 loss=0.808\n",
      "epoch= 1, batch=250000: sp=0.450 0.293  pair/sec = 9392.50 loss=0.739\n",
      "epoch= 1, batch=260000: sp=0.468 0.293  pair/sec = 10788.52 loss=0.785\n",
      "epoch= 1, batch=270000: sp=0.481 0.300  pair/sec = 10773.90 loss=0.783\n",
      "epoch= 1, batch=280000: sp=0.491 0.293  pair/sec = 10764.73 loss=0.783\n",
      "epoch= 1, batch=290000: sp=0.512 0.295  pair/sec = 10674.95 loss=0.796\n",
      "\n",
      "epoch= 2, batch=    0: sp=0.513 0.296  pair/sec = 84646.80 loss=0.075\n",
      "epoch= 2, batch=10000: sp=0.523 0.303  pair/sec = 10692.65 loss=0.793\n",
      "epoch= 2, batch=20000: sp=0.531 0.318  pair/sec = 10629.11 loss=0.741\n",
      "epoch= 2, batch=30000: sp=0.534 0.316  pair/sec = 10768.64 loss=0.586\n",
      "epoch= 2, batch=40000: sp=0.523 0.317  pair/sec = 10750.96 loss=0.800\n",
      "epoch= 2, batch=50000: sp=0.537 0.319  pair/sec = 9624.35 loss=0.754\n",
      "epoch= 2, batch=60000: sp=0.537 0.317  pair/sec = 10724.10 loss=0.758\n",
      "epoch= 2, batch=70000: sp=0.542 0.320  pair/sec = 10786.49 loss=0.759\n",
      "epoch= 2, batch=80000: sp=0.544 0.325  pair/sec = 10760.85 loss=0.796\n",
      "epoch= 2, batch=90000: sp=0.545 0.322  pair/sec = 10671.81 loss=0.718\n",
      "epoch= 2, batch=100000: sp=0.548 0.319  pair/sec = 9502.51 loss=0.712\n",
      "epoch= 2, batch=110000: sp=0.548 0.325  pair/sec = 10695.44 loss=0.692\n",
      "epoch= 2, batch=120000: sp=0.555 0.323  pair/sec = 10669.59 loss=0.617\n"
     ]
    }
   ],
   "source": [
    "from gensim.test.utils import datapath\n",
    "from gensim import utils\n",
    "from gensim.models import Word2Vec\n",
    "import gensim.downloader as api\n",
    "import pprint\n",
    "import tqdm\n",
    "\n",
    "from word2vec.trainer import Word2VecTrainer\n",
    "pp = pprint.PrettyPrinter()\n",
    "\n",
    "%load_ext autoreload\n",
    "%autoreload 2\n",
    "\n",
    "wv = Word2VecTrainer(\"dataset/text8.txt\", output_file=\"sgns.vec\") # emb_dim=100, vocab=30000, SparseAdam, lr=0.001\n",
    "# wv = Word2VecTrainer(\"dataset/text8_100.txt\", output_file=\"sgns_mini.vec\")\n",
    "wv.train()"
   ]
  },
  {
   "cell_type": "code",
   "execution_count": 7,
   "metadata": {
    "ExecuteTime": {
     "end_time": "2021-03-08T11:38:15.311808Z",
     "start_time": "2021-03-08T11:38:11.018266Z"
    }
   },
   "outputs": [
    {
     "name": "stdout",
     "output_type": "stream",
     "text": [
      "Loaded vocab size 50000\n"
     ]
    }
   ],
   "source": [
    "from gensim.models import KeyedVectors\n",
    "from gensim.test.utils import datapath\n",
    "\n",
    "wv = KeyedVectors.load_word2vec_format(\"sgns.vec\", binary=False)\n",
    "vocab = list(wv.vocab.keys())\n",
    "print(\"Loaded vocab size %i\" % len(vocab))"
   ]
  },
  {
   "cell_type": "code",
   "execution_count": 8,
   "metadata": {
    "ExecuteTime": {
     "end_time": "2021-03-08T11:38:17.466667Z",
     "start_time": "2021-03-08T11:38:17.290962Z"
    }
   },
   "outputs": [
    {
     "name": "stdout",
     "output_type": "stream",
     "text": [
      "0.5027689131705056\n",
      "0.2358323572771211\n",
      "0.183232016465508\n"
     ]
    }
   ],
   "source": [
    "evaluate_wordsim(wv)"
   ]
  },
  {
   "cell_type": "code",
   "execution_count": null,
   "metadata": {},
   "outputs": [],
   "source": []
  },
  {
   "cell_type": "code",
   "execution_count": null,
   "metadata": {},
   "outputs": [],
   "source": []
  }
 ],
 "metadata": {
  "kernelspec": {
   "display_name": "Python 3",
   "language": "python",
   "name": "python3"
  },
  "language_info": {
   "codemirror_mode": {
    "name": "ipython",
    "version": 3
   },
   "file_extension": ".py",
   "mimetype": "text/x-python",
   "name": "python",
   "nbconvert_exporter": "python",
   "pygments_lexer": "ipython3",
   "version": "3.8.5"
  },
  "toc": {
   "base_numbering": 1,
   "nav_menu": {},
   "number_sections": true,
   "sideBar": true,
   "skip_h1_title": false,
   "title_cell": "Table of Contents",
   "title_sidebar": "Contents",
   "toc_cell": false,
   "toc_position": {},
   "toc_section_display": true,
   "toc_window_display": false
  }
 },
 "nbformat": 4,
 "nbformat_minor": 4
}
