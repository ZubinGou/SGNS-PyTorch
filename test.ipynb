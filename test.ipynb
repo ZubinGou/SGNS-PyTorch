{
 "cells": [
  {
   "cell_type": "code",
   "execution_count": 1,
   "metadata": {
    "ExecuteTime": {
     "end_time": "2021-03-08T14:51:25.792335Z",
     "start_time": "2021-03-08T14:51:25.487227Z"
    }
   },
   "outputs": [],
   "source": [
    "from gensim.test.utils import datapath\n",
    "from gensim import utils\n",
    "from gensim.models import Word2Vec, KeyedVectors\n",
    "import gensim.downloader as api"
   ]
  },
  {
   "cell_type": "code",
   "execution_count": 4,
   "metadata": {
    "ExecuteTime": {
     "end_time": "2021-03-08T13:36:09.578435Z",
     "start_time": "2021-03-08T13:36:09.575113Z"
    }
   },
   "outputs": [],
   "source": [
    "def evaluate_wordsim(wordvec):\n",
    "    p_ws353 = wordvec.evaluate_word_pairs(datapath('wordsim353.tsv'))[1][0]\n",
    "    p_rw = wordvec.evaluate_word_pairs(\"word2vec/rw/rw_clean.txt\")[1][0]\n",
    "    p_sl999 = wordvec.evaluate_word_pairs(datapath('simlex999.txt'))[1][0]\n",
    "    print(\"WS353:\", p_ws353)\n",
    "    print(\"RW:\", p_rw)\n",
    "    print(\"SL999\", p_sl999)"
   ]
  },
  {
   "cell_type": "markdown",
   "metadata": {
    "ExecuteTime": {
     "start_time": "2021-03-08T12:45:57.775Z"
    }
   },
   "source": [
    "## Pretrained GoogleNews-300"
   ]
  },
  {
   "cell_type": "code",
   "execution_count": 8,
   "metadata": {
    "ExecuteTime": {
     "end_time": "2021-03-08T13:20:41.004257Z",
     "start_time": "2021-03-08T13:20:06.626647Z"
    }
   },
   "outputs": [
    {
     "name": "stdout",
     "output_type": "stream",
     "text": [
      "vocab: 3000000\n",
      "vec_dim: 300\n"
     ]
    }
   ],
   "source": [
    "wv_google = KeyedVectors.load_word2vec_format('dataset/GoogleNews-vectors-negative300.bin', binary=True)\n",
    "print(\"vocab:\", len(wv_google.vocab))\n",
    "print(\"vec_dim:\", wv_google.vector_size)"
   ]
  },
  {
   "cell_type": "code",
   "execution_count": 11,
   "metadata": {
    "ExecuteTime": {
     "end_time": "2021-03-08T13:21:59.029201Z",
     "start_time": "2021-03-08T13:21:57.987236Z"
    }
   },
   "outputs": [
    {
     "name": "stdout",
     "output_type": "stream",
     "text": [
      "WS353: 0.6589215888009288\n",
      "RW: 0.5525559901031721\n",
      "SL999 0.43607859778335434\n"
     ]
    }
   ],
   "source": [
    "evaluate_wordsim(wv_google)"
   ]
  },
  {
   "cell_type": "markdown",
   "metadata": {
    "ExecuteTime": {
     "end_time": "2021-03-06T02:34:51.871196Z",
     "start_time": "2021-03-06T02:34:51.858070Z"
    }
   },
   "source": [
    "## Train by gensim"
   ]
  },
  {
   "cell_type": "code",
   "execution_count": 9,
   "metadata": {
    "ExecuteTime": {
     "end_time": "2021-03-08T14:32:02.775771Z",
     "start_time": "2021-03-08T14:31:58.660577Z"
    }
   },
   "outputs": [],
   "source": [
    "dataset = api.load(\"text8\")\n",
    "\n",
    "with open(\"dataset/text8.txt\", \"w\") as f:\n",
    "    for data in dataset:\n",
    "        f.write(\" \".join(data) + \"\\n\")"
   ]
  },
  {
   "cell_type": "markdown",
   "metadata": {},
   "source": [
    "提取text8一部分用于测试：\n",
    "```sh\n",
    "$ head -i 100 text8.txt > text8_100.txt\n",
    "```"
   ]
  },
  {
   "cell_type": "code",
   "execution_count": 8,
   "metadata": {
    "ExecuteTime": {
     "end_time": "2021-03-08T12:28:26.739730Z",
     "start_time": "2021-03-08T12:27:17.689878Z"
    }
   },
   "outputs": [
    {
     "name": "stdout",
     "output_type": "stream",
     "text": [
      "vocab: 71290\n",
      "vec_dim: 100\n"
     ]
    }
   ],
   "source": [
    "dataset = api.load(\"text8\")\n",
    "model = Word2Vec(dataset)\n",
    "print(\"vocab:\", len(model.wv.vocab))\n",
    "print(\"vec_dim:\", model.vector_size)"
   ]
  },
  {
   "cell_type": "code",
   "execution_count": 9,
   "metadata": {
    "ExecuteTime": {
     "end_time": "2021-03-08T12:33:04.443293Z",
     "start_time": "2021-03-08T12:33:04.012247Z"
    }
   },
   "outputs": [
    {
     "name": "stdout",
     "output_type": "stream",
     "text": [
      "0.623768051438205\n",
      "0.3198280325425669\n",
      "0.24994655821500755\n"
     ]
    }
   ],
   "source": [
    "evaluate_wordsim(model.wv)"
   ]
  },
  {
   "cell_type": "markdown",
   "metadata": {},
   "source": [
    "## Train by SGNS-PyTorch"
   ]
  },
  {
   "cell_type": "code",
   "execution_count": null,
   "metadata": {
    "ExecuteTime": {
     "end_time": "2021-03-08T15:00:08.952121Z",
     "start_time": "2021-03-08T15:00:00.073091Z"
    }
   },
   "outputs": [],
   "source": [
    "from gensim.test.utils import datapath\n",
    "from gensim import utils\n",
    "from gensim.models import Word2Vec\n",
    "import tqdm\n",
    "\n",
    "from word2vec.trainer import Word2VecTrainer\n",
    "\n",
    "%load_ext autoreload\n",
    "%autoreload 2\n",
    "\n",
    "wv = Word2VecTrainer(\"dataset/text8.txt\", saved_model_path=\"tmp/skipgram.epoch1.batch50000\", output_file=\"sgns.vec\") # emb_dim=100, vocab=50000, SparseAdam, lr=0.001\n",
    "\n",
    "wv.train()"
   ]
  },
  {
   "cell_type": "code",
   "execution_count": 10,
   "metadata": {
    "ExecuteTime": {
     "end_time": "2021-03-08T14:33:06.803529Z",
     "start_time": "2021-03-08T14:32:59.492551Z"
    }
   },
   "outputs": [
    {
     "name": "stdout",
     "output_type": "stream",
     "text": [
      "Loaded vocab size 50000\n",
      "WS353: 0.660792652633121\n",
      "RW: 0.3430154080998551\n",
      "SL999 0.2649420256825831\n"
     ]
    }
   ],
   "source": [
    "from gensim.models import KeyedVectors\n",
    "\n",
    "wv = KeyedVectors.load_word2vec_format(\"sgns.vec\", binary=False)\n",
    "vocab = list(wv.vocab.keys())\n",
    "print(\"Loaded vocab size %i\" % len(vocab))\n",
    "evaluate_wordsim(wv)"
   ]
  }
 ],
 "metadata": {
  "kernelspec": {
   "display_name": "Python 3",
   "language": "python",
   "name": "python3"
  },
  "toc": {
   "base_numbering": 1,
   "nav_menu": {},
   "number_sections": true,
   "sideBar": true,
   "skip_h1_title": false,
   "title_cell": "Table of Contents",
   "title_sidebar": "Contents",
   "toc_cell": false,
   "toc_position": {},
   "toc_section_display": true,
   "toc_window_display": false
  }
 },
 "nbformat": 4,
 "nbformat_minor": 4
}
