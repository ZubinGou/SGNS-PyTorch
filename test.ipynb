{
 "cells": [
  {
   "cell_type": "code",
   "execution_count": 8,
   "metadata": {
    "ExecuteTime": {
     "end_time": "2021-03-05T15:15:11.583400Z",
     "start_time": "2021-03-05T15:15:11.579399Z"
    }
   },
   "outputs": [],
   "source": [
    "import gensim.models.keyedvectors as word2vec\n",
    "import gensim.downloader as api\n",
    "import pprint\n",
    "\n",
    "pp = pprint.PrettyPrinter()"
   ]
  },
  {
   "cell_type": "code",
   "execution_count": 2,
   "metadata": {
    "ExecuteTime": {
     "end_time": "2021-03-05T15:07:43.606905Z",
     "start_time": "2021-03-05T15:07:43.601883Z"
    }
   },
   "outputs": [],
   "source": [
    "def load_word2vec():\n",
    "    \"\"\" Load Word2Vec Vectors\n",
    "        Return:\n",
    "            wv_from_bin: All 3 million embeddings, each lengh 300\n",
    "    \"\"\"\n",
    "    # wv_from_bin = api.load(\"word2vec-google-news-300\")\n",
    "    wv_from_bin = word2vec.KeyedVectors.load_word2vec_format('dataset/GoogleNews-vectors-negative300.bin', binary=True)\n",
    "    vocab = list(wv_from_bin.vocab.keys())\n",
    "    print(\"Loaded vocab size %i\" % len(vocab))\n",
    "    return wv_from_bin\n"
   ]
  },
  {
   "cell_type": "code",
   "execution_count": 3,
   "metadata": {
    "ExecuteTime": {
     "end_time": "2021-03-05T15:08:06.945775Z",
     "start_time": "2021-03-05T15:07:49.707112Z"
    }
   },
   "outputs": [
    {
     "name": "stdout",
     "output_type": "stream",
     "text": [
      "Loaded vocab size 3000000\n"
     ]
    }
   ],
   "source": [
    "wv = load_word2vec()"
   ]
  },
  {
   "cell_type": "code",
   "execution_count": 12,
   "metadata": {
    "ExecuteTime": {
     "end_time": "2021-03-05T15:18:43.379039Z",
     "start_time": "2021-03-05T15:18:42.983961Z"
    }
   },
   "outputs": [
    {
     "name": "stdout",
     "output_type": "stream",
     "text": [
      "<gensim.models.keyedvectors.Word2VecKeyedVectors object at 0x000001CB473C0130>\n",
      "most sim:\n",
      "[('queen', 0.7118192911148071),\n",
      " ('monarch', 0.6189674139022827),\n",
      " ('princess', 0.5902431011199951),\n",
      " ('crown_prince', 0.5499460697174072),\n",
      " ('prince', 0.5377321243286133),\n",
      " ('kings', 0.5236844420433044),\n",
      " ('Queen_Consort', 0.5235945582389832),\n",
      " ('queens', 0.518113374710083),\n",
      " ('sultan', 0.5098593235015869),\n",
      " ('monarchy', 0.5087411999702454)]\n",
      "\n",
      "doesnt match:\n",
      "cereal\n",
      "\n",
      "sim:\n",
      "0.76640123\n",
      "\n",
      "sim by word\n",
      "[('cats', 0.8099379539489746),\n",
      " ('dog', 0.7609456777572632),\n",
      " ('kitten', 0.7464985251426697),\n",
      " ('feline', 0.7326233983039856),\n",
      " ('beagle', 0.7150583267211914),\n",
      " ('puppy', 0.7075453996658325),\n",
      " ('pup', 0.6934291124343872),\n",
      " ('pet', 0.6891531348228455),\n",
      " ('felines', 0.6755931377410889),\n",
      " ('chihuahua', 0.6709762215614319)]\n"
     ]
    }
   ],
   "source": [
    "print(wv)\n",
    "print(\"most sim:\")\n",
    "result = wv.most_similar(positive=['woman', 'king'], negative=['man'])\n",
    "pp.pprint(result[:10])\n",
    "\n",
    "print(\"\\ndoesnt match:\")\n",
    "print(wv.doesnt_match(\"breakfast cereal dinner lunch\".split()))\n",
    "\n",
    "print(\"\\nsim:\")\n",
    "print(wv.similarity('woman', 'man'))\n",
    "\n",
    "print(\"\\nsim by word\")\n",
    "result = wv.similar_by_word(\"cat\")\n",
    "pp.pprint(result[:10])"
   ]
  },
  {
   "cell_type": "code",
   "execution_count": 14,
   "metadata": {
    "ExecuteTime": {
     "end_time": "2021-03-05T15:20:12.023328Z",
     "start_time": "2021-03-05T15:20:11.379145Z"
    }
   },
   "outputs": [
    {
     "name": "stdout",
     "output_type": "stream",
     "text": [
      "((0.6238773466616108, 1.7963237724170263e-39), SpearmanrResult(correlation=0.6589215888009288, pvalue=2.5346056459149263e-45), 0.0)\n"
     ]
    }
   ],
   "source": [
    "from gensim.test.utils import datapath\n",
    "similarities = wv.evaluate_word_pairs(datapath('wordsim353.tsv'))\n",
    "print(similarities)"
   ]
  },
  {
   "cell_type": "code",
   "execution_count": null,
   "metadata": {},
   "outputs": [],
   "source": []
  },
  {
   "cell_type": "code",
   "execution_count": null,
   "metadata": {},
   "outputs": [],
   "source": []
  },
  {
   "cell_type": "code",
   "execution_count": null,
   "metadata": {},
   "outputs": [],
   "source": []
  },
  {
   "cell_type": "code",
   "execution_count": null,
   "metadata": {},
   "outputs": [],
   "source": []
  },
  {
   "cell_type": "code",
   "execution_count": null,
   "metadata": {},
   "outputs": [],
   "source": []
  }
 ],
 "metadata": {
  "kernelspec": {
   "display_name": "Python 3",
   "language": "python",
   "name": "python3"
  },
  "language_info": {
   "codemirror_mode": {
    "name": "ipython",
    "version": 3
   },
   "file_extension": ".py",
   "mimetype": "text/x-python",
   "name": "python",
   "nbconvert_exporter": "python",
   "pygments_lexer": "ipython3",
   "version": "3.8.5"
  },
  "toc": {
   "base_numbering": 1,
   "nav_menu": {},
   "number_sections": true,
   "sideBar": true,
   "skip_h1_title": false,
   "title_cell": "Table of Contents",
   "title_sidebar": "Contents",
   "toc_cell": false,
   "toc_position": {},
   "toc_section_display": true,
   "toc_window_display": false
  }
 },
 "nbformat": 4,
 "nbformat_minor": 4
}
