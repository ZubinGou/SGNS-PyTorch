{
 "cells": [
  {
   "cell_type": "code",
   "execution_count": 1,
   "metadata": {
    "ExecuteTime": {
     "end_time": "2021-03-07T15:56:46.945700Z",
     "start_time": "2021-03-07T15:56:46.559279Z"
    }
   },
   "outputs": [],
   "source": [
    "from gensim.test.utils import datapath\n",
    "from gensim import utils\n",
    "from gensim.models import Word2Vec\n",
    "import gensim.downloader as api\n",
    "import pprint\n",
    "import tqdm\n",
    "\n",
    "pp = pprint.PrettyPrinter()"
   ]
  },
  {
   "cell_type": "code",
   "execution_count": 9,
   "metadata": {
    "ExecuteTime": {
     "end_time": "2021-03-07T16:03:16.015320Z",
     "start_time": "2021-03-07T16:02:44.222232Z"
    }
   },
   "outputs": [],
   "source": [
    "from gensim.test.utils import datapath\n",
    "from gensim import utils\n",
    "\n",
    "class MyCorpus:\n",
    "    \"\"\"An iterator that yields sentences (lists of str).\"\"\"\n",
    "\n",
    "    def __iter__(self):\n",
    "        corpus_path = \"dataset/text8_300.txt\"\n",
    "        for line in open(corpus_path):\n",
    "            # assume there's one document per line, tokens separated by whitespace\n",
    "            yield utils.simple_preprocess(line)\n",
    "\n",
    "sentences = MyCorpus()\n",
    "model = Word2Vec(sentences=sentences)"
   ]
  },
  {
   "cell_type": "code",
   "execution_count": 10,
   "metadata": {
    "ExecuteTime": {
     "end_time": "2021-03-07T16:03:29.019326Z",
     "start_time": "2021-03-07T16:03:29.015499Z"
    }
   },
   "outputs": [
    {
     "name": "stdout",
     "output_type": "stream",
     "text": [
      "[ 1.1322116   1.3453095  -0.5137867  -1.5333354   0.76650417  0.86017853\n",
      "  0.2569839   0.74188554 -1.5900671   0.5590354  -0.4215341   0.03469605\n",
      "  1.0513054  -1.3667496   0.6258281   1.3559716  -0.26905403 -1.8946295\n",
      "  0.18466774  1.138637    1.890035   -0.8083685   1.4282751   0.28124878\n",
      " -0.6798513   0.19633721 -0.3996345  -2.4275403   0.8961104  -0.381314\n",
      "  0.23380324 -0.23795184  0.4730276  -1.7106884   0.3988199  -0.9126011\n",
      " -0.87486714 -1.3708533  -0.6677854   0.2737331  -1.3676685   1.7123224\n",
      "  0.5072303   1.0877522  -1.1923289   0.8372041  -1.2962031  -1.3346626\n",
      "  2.6655805  -1.2104515   0.09891263 -0.35819107  0.44609076 -2.4819303\n",
      " -0.46526143 -0.00778858  0.394357   -0.38297844 -0.68666434 -2.4417121\n",
      " -0.6140419  -1.4389229   0.94723994 -0.79037225  1.2937492   0.16117108\n",
      " -0.7482749   0.18642375 -0.3924294   1.6836047   0.39626467 -0.46332476\n",
      "  0.7846641   1.0232946  -0.43123764 -1.6424836   0.07552732 -0.7329143\n",
      "  1.3046632   0.4253082   1.1522722   0.5174582   0.80983967  1.6702499\n",
      "  0.5245632   1.7002263  -1.0389377   1.5561794   1.8271682   2.00644\n",
      " -2.4847217   0.5736736  -1.7929206  -1.2795959   1.9379047  -2.4869573\n",
      " -0.578989    0.6476782   0.5908929  -0.9510971 ]\n"
     ]
    }
   ],
   "source": [
    "print(model.wv['king'])"
   ]
  },
  {
   "cell_type": "code",
   "execution_count": 11,
   "metadata": {
    "ExecuteTime": {
     "end_time": "2021-03-07T16:03:32.454612Z",
     "start_time": "2021-03-07T16:03:32.354373Z"
    }
   },
   "outputs": [
    {
     "name": "stdout",
     "output_type": "stream",
     "text": [
      "((0.3949226311415544, 1.5428137709318984e-13), SpearmanrResult(correlation=0.40652661431010173, pvalue=2.5204675691454336e-14), 8.21529745042493)\n",
      "((0.20903082916744406, 1.1890745175318485e-10), SpearmanrResult(correlation=0.1823325369233978, pvalue=2.1074484837911795e-08), 6.806806806806807)\n"
     ]
    }
   ],
   "source": [
    "print(model.wv.evaluate_word_pairs(datapath('wordsim353.tsv')))\n",
    "print(model.wv.evaluate_word_pairs(datapath('simlex999.txt')))"
   ]
  }
 ],
 "metadata": {
  "kernelspec": {
   "display_name": "Python 3",
   "language": "python",
   "name": "python3"
  },
  "language_info": {
   "codemirror_mode": {
    "name": "ipython",
    "version": 3
   },
   "file_extension": ".py",
   "mimetype": "text/x-python",
   "name": "python",
   "nbconvert_exporter": "python",
   "pygments_lexer": "ipython3",
   "version": "3.8.5"
  }
 },
 "nbformat": 4,
 "nbformat_minor": 4
}
